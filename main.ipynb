{
 "cells": [
  {
   "cell_type": "code",
   "execution_count": null,
   "metadata": {},
   "outputs": [],
   "source": [
    "# Get the charge for the food from the user\n",
    "food_charge = float(input(\"Enter the charge for the food: \"))\n",
    "charge = \"${}\".format(food_charge)\n",
    "print (' Charge:', charge)\n",
    "# Calculate the amounts of tip and sales tax\n",
    "tip_amount = 0.18 * food_charge\n",
    "tipamount =\"${}\".format(tip_amount)\n",
    "sales_tax_amount =round( 0.07 * food_charge,2)\n",
    "salestax = \"${}\".format(sales_tax_amount)\n",
    "\n",
    "# Calculate the total amount including tip and sales tax\n",
    "Grand_total = food_charge + tip_amount + sales_tax_amount\n",
    "Grandtotal = \"${}\".format(Grand_total)\n",
    "\n",
    "# Display the amounts of tip and sales tax\n",
    "print(\"Tip amount: \",tipamount)\n",
    "print(\"Sales tax amount: \", salestax)\n",
    "\n",
    "# Display the total amount including tip and sales tax\n",
    "print(\"Grand_total (including tip and sales tax): \", Grandtotal)\n",
    "\n",
    "\n"
   ]
  }
 ],
 "metadata": {
  "language_info": {
   "name": "python"
  },
  "orig_nbformat": 4
 },
 "nbformat": 4,
 "nbformat_minor": 2
}
